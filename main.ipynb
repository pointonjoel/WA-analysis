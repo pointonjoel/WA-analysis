{
 "cells": [
  {
   "cell_type": "markdown",
   "source": [
    "# Usage\n",
    "This file is the main file used to analyse WhatsApp messages. If you have very little coding experience, simply rename the 'filename' variable below and then run all of the cells and explore the output."
   ],
   "metadata": {
    "collapsed": false
   }
  },
  {
   "cell_type": "code",
   "execution_count": 168,
   "metadata": {
    "collapsed": true
   },
   "outputs": [],
   "source": [
    "from datetime import datetime\n",
    "import seaborn as sns\n",
    "import matplotlib.pyplot as plt\n",
    "import pandas as pd\n",
    "import emoji"
   ]
  },
  {
   "cell_type": "code",
   "execution_count": 169,
   "outputs": [],
   "source": [
    "# Edit the 'filename' variable below to fit your file name\n",
    "filename = 'WhatsApp Chat.txt'\n",
    "with open(filename, encoding=\"utf8\") as file:\n",
    "    data = [line.rstrip() for line in file]"
   ],
   "metadata": {
    "collapsed": false
   }
  },
  {
   "cell_type": "markdown",
   "source": [
    "# Setup\n",
    "The main code is stored here, which is the building blocks for the analysis. There are two main classes, 'Conversation' and 'Message'. Each conversation stores a set of 'Message' objects which contains all relevant attributes."
   ],
   "metadata": {
    "collapsed": false
   }
  },
  {
   "cell_type": "code",
   "execution_count": 170,
   "outputs": [],
   "source": [
    "class Message:\n",
    "    def __init__(self, content): # sender, date, time, length,\n",
    "        self.content = content\n",
    "        self.datetime = self.get_datetime()\n",
    "        self.date = self.datetime.date()\n",
    "        self.time = self.datetime.time()\n",
    "        self.hour = self.datetime.hour\n",
    "        self.sender = self.get_sender()\n",
    "        self.length = self.get_length()\n",
    "        self.message_start_pos = self.get_message_start_pos()\n",
    "        self.message = self.content[self.message_start_pos:]\n",
    "\n",
    "    def get_datetime(self):\n",
    "        return datetime.strptime(self.content[0:17], '%d/%m/%Y, %H:%M')\n",
    "\n",
    "    def get_message_start_pos(self):\n",
    "        return [pos for pos, char in enumerate(self.content) if char == ':'][1] + 2\n",
    "\n",
    "    def get_sender(self):\n",
    "        name_start = [pos for pos, char in enumerate(self.content) if char == '-'][0] + 2\n",
    "        name_end = self.get_message_start_pos() - 2\n",
    "        return self.content[name_start:name_end]\n",
    "\n",
    "    def get_length(self):\n",
    "        return len(self.content) - self.get_message_start_pos()\n",
    "\n",
    "    def __str__(self):\n",
    "        return f'{self.content}'\n",
    "\n",
    "class Conversation:\n",
    "    def __init__(self, messages):\n",
    "        self.messages = self.get_messages(messages)\n",
    "        self.senders = self.get_senders()\n",
    "        self.df = self.convert_to_df()\n",
    "\n",
    "    def get_messages(self, messages): # merges any multi-line messages into one\n",
    "        concat_messages = []\n",
    "        for m in messages:\n",
    "            try:\n",
    "                Message(m).get_datetime()\n",
    "                concat_messages.append(m)\n",
    "                # Therefore the last message is finished so can make it the Message object\n",
    "            except:\n",
    "                if concat_messages == []:\n",
    "                    pass # this means it is the initial message: \"Messages and calls are end-to-end encrypted. No one outside of this chat, not even WhatsApp, can read or listen to them. Tap to learn more.\"\n",
    "                else:\n",
    "                    concat_messages[-1] = concat_messages[-1] + m\n",
    "        return [Message(msg) for msg in concat_messages]\n",
    "\n",
    "    def get_senders(self):\n",
    "        senders =  []\n",
    "        for message in self.messages:\n",
    "            if message.sender not in senders:\n",
    "                senders.append(message.sender)\n",
    "        return senders\n",
    "\n",
    "    def convert_to_df(self):\n",
    "        msg_data_list = []\n",
    "        for message in self.messages:\n",
    "            msg_data_list.append([message.sender, message.datetime, message.date, message.time, message.hour, message.length, message.message_start_pos, message.message])\n",
    "        headers = ['Sender', 'Datetime', 'Date', 'Time', 'Hour', 'Length', 'Start pos', 'Message']\n",
    "        return  pd.DataFrame(msg_data_list, columns=headers)\n",
    "\n",
    "    def get_sender_breakdown(self):\n",
    "        return self.df['Sender'].value_counts()\n",
    "\n",
    "    def get_pie_chart(self, values, labels):\n",
    "        # Plot\n",
    "        plt.pie(values, labels=labels)\n",
    "\n",
    "        plt.axis('equal')\n",
    "        plt.show()\n",
    "\n",
    "    def get_sender_breakdown_pie(self):\n",
    "        breakdown = self.get_sender_breakdown()\n",
    "        return self.get_pie_chart(breakdown, breakdown.index)\n",
    "\n",
    "    def get_df_from_dict(self, df):\n",
    "        return pd.DataFrame.from_dict(df, orient='index').transpose()\n",
    "\n",
    "    def get_msg_length_distribution(self):\n",
    "        sns.boxplot(data=self.df, x='Sender', y='Length')\n",
    "\n",
    "    def get_msg_send_time_distribution(self):\n",
    "        palette = sns.color_palette()\n",
    "        n = len(self.senders)\n",
    "        fig, axs = plt.subplots(n, 1, figsize=(7, 7), sharex='all')\n",
    "        fig.subplots_adjust(hspace=0.35)\n",
    "        n = 0\n",
    "        for sender in self.senders:\n",
    "            sub_df = convo.df.loc[(convo.df['Sender']==sender)]\n",
    "            sns.histplot(data=sub_df, x=\"Hour\", kde=True, ax=axs[n], color=palette[n]) #\n",
    "            axs[n].set_title(sender)\n",
    "            n += 1\n",
    "        return fig\n",
    "\n",
    "    def get_most_common_words(self):\n",
    "        most_common_words = {}\n",
    "        for sender in self.senders:\n",
    "            most_common_words[sender] = {}\n",
    "        for m in self.messages:\n",
    "            for word in m.message.split():\n",
    "                if word in most_common_words[m.sender].keys():\n",
    "                    most_common_words[m.sender][word] += 1\n",
    "                else:\n",
    "                    most_common_words[m.sender][word] = 1\n",
    "        return most_common_words\n",
    "\n",
    "    def get_most_common_emojis(self):\n",
    "        most_common_emojis = {}\n",
    "        for sender in self.senders:\n",
    "            most_common_emojis[sender] = {}\n",
    "        for m in self.messages:\n",
    "            for letter in m.message:\n",
    "                if letter in emoji.EMOJI_DATA:\n",
    "                    if letter in most_common_emojis[m.sender].keys():\n",
    "                        most_common_emojis[m.sender][letter] += 1\n",
    "                    else:\n",
    "                        most_common_emojis[m.sender][letter] = 1\n",
    "        # Reorder the dict in descending order:\n",
    "        for sender in self.senders:\n",
    "            most_common_emojis[sender] = {k: v for k, v in sorted(most_common_emojis[sender].items(), key=lambda item: item[1], reverse=True)}\n",
    "                # dict(sorted(most_common_emojis[sender].items(), key=lambda item: item[1], reverse=True))\n",
    "        return most_common_emojis\n",
    "\n",
    "    def display_most_common_emojis(self, sender_emoji_dict):\n",
    "        output_string = ''\n",
    "        for sender in sender_emoji_dict.keys():\n",
    "            string = f'{sender}: {list(sender_emoji_dict[sender].keys())[0]} ({list(sender_emoji_dict[sender].values())[0]}), {list(sender_emoji_dict[sender].keys())[1]} ({list(sender_emoji_dict[sender].values())[1]}), {list(sender_emoji_dict[sender].keys())[2]} ({list(sender_emoji_dict[sender].values())[2]}), {list(sender_emoji_dict[sender].keys())[3]} ({list(sender_emoji_dict[sender].values())[3]}), {list(sender_emoji_dict[sender].keys())[4]} ({list(sender_emoji_dict[sender].values())[4]}) \\n'\n",
    "            output_string += string\n",
    "        return output_string\n",
    "\n",
    "    def display_number_of_emojis_per_message(self):\n",
    "        output_string = ''\n",
    "        for sender in self.senders:\n",
    "            emoji_dict = self.get_most_common_emojis()\n",
    "            total_emojis = sum(emoji_dict[sender].values())\n",
    "            total_messages = self.get_sender_breakdown()[sender]\n",
    "            emoji_ratio = round(total_emojis/total_messages, 1)\n",
    "            string = f'{sender}: ({total_emojis} total emojis)/({total_messages} total messages) = {emoji_ratio} \\n'\n",
    "            output_string += string\n",
    "        return output_string\n",
    "\n",
    "    def __str__(self):\n",
    "        output = ''\n",
    "        for message in self.messages:\n",
    "            output += message\n",
    "        return output"
   ],
   "metadata": {
    "collapsed": false
   }
  },
  {
   "cell_type": "markdown",
   "source": [
    "# Output and Analysis\n",
    "Now that the building blocks have been created, the data can be converted into a 'Conversation' object and the output of the analysis can be explored."
   ],
   "metadata": {
    "collapsed": false
   }
  },
  {
   "cell_type": "code",
   "execution_count": 171,
   "outputs": [],
   "source": [
    "# Storing the data as a 'Conversation' object\n",
    "\n",
    "convo = Conversation(data)"
   ],
   "metadata": {
    "collapsed": false
   }
  },
  {
   "cell_type": "code",
   "execution_count": 172,
   "outputs": [
    {
     "data": {
      "text/plain": "<Figure size 432x288 with 1 Axes>",
      "image/png": "[encoded data removed]"
     },
     "metadata": {},
     "output_type": "display_data"
    }
   ],
   "source": [
    "# Pie chart displaying number of messages sent per person\n",
    "\n",
    "convo.get_sender_breakdown_pie()"
   ],
   "metadata": {
    "collapsed": false
   }
  },
  {
   "cell_type": "code",
   "execution_count": 173,
   "outputs": [
    {
     "data": {
      "text/plain": "<Figure size 432x288 with 1 Axes>",
      "image/png": "[encoded data removed]"
     },
     "metadata": {},
     "output_type": "display_data"
    }
   ],
   "source": [
    "# Box plot showing the IQR and range of message lengths\n",
    "\n",
    "convo.get_msg_length_distribution()"
   ],
   "metadata": {
    "collapsed": false
   }
  },
  {
   "cell_type": "code",
   "execution_count": 174,
   "outputs": [
    {
     "data": {
      "text/plain": "<Figure size 504x504 with 2 Axes>",
      "image/png": "[encoded data removed]"
     },
     "execution_count": 174,
     "metadata": {},
     "output_type": "execute_result"
    },
    {
     "data": {
      "text/plain": "<Figure size 504x504 with 2 Axes>",
      "image/png": "[encoded data removed]"
     },
     "metadata": {},
     "output_type": "display_data"
    }
   ],
   "source": [
    "# Histogram showing the time (hour) of messages sent\n",
    "\n",
    "convo.get_msg_send_time_distribution()"
   ],
   "metadata": {
    "collapsed": false
   }
  },
  {
   "cell_type": "code",
   "execution_count": 175,
   "outputs": [
    {
     "name": "stdout",
     "output_type": "stream",
     "text": [
      "Joel: 👌 (3), 😂 (2), 😍 (2), 😭 (1), 😢 (1) \n",
      "Lily: 😂 (12), 😁 (4), 🥰 (3), 🤷 (1), 🏻 (1) \n",
      "\n"
     ]
    }
   ],
   "source": [
    "# Finding the number of each emoji each person uses\n",
    "\n",
    "emoji_dict = convo.get_most_common_emojis()\n",
    "print(convo.display_most_common_emojis(emoji_dict))"
   ],
   "metadata": {
    "collapsed": false
   }
  },
  {
   "cell_type": "code",
   "execution_count": 176,
   "outputs": [
    {
     "name": "stdout",
     "output_type": "stream",
     "text": [
      "Joel: (11 total emojis)/(16 total messages) = 0.7 \n",
      "Lily: (28 total emojis)/(15 total messages) = 1.9 \n",
      "\n"
     ]
    }
   ],
   "source": [
    "# Finding the average numer of emojis used per message\n",
    "\n",
    "print(convo.display_number_of_emojis_per_message())"
   ],
   "metadata": {
    "collapsed": false
   }
  },
  {
   "cell_type": "markdown",
   "source": [
    "With the foundations in place, you can now adapt this to produce more analysis as required. See [www.joelpointon.com](www.joelpointon.com) for more information on my work."
   ],
   "metadata": {
    "collapsed": false
   }
  },
  {
   "cell_type": "code",
   "execution_count": null,
   "outputs": [],
   "source": [],
   "metadata": {
    "collapsed": false
   }
  }
 ],
 "metadata": {
  "kernelspec": {
   "display_name": "Python 3",
   "language": "python",
   "name": "python3"
  },
  "language_info": {
   "codemirror_mode": {
    "name": "ipython",
    "version": 2
   },
   "file_extension": ".py",
   "mimetype": "text/x-python",
   "name": "python",
   "nbconvert_exporter": "python",
   "pygments_lexer": "ipython2",
   "version": "2.7.6"
  }
 },
 "nbformat": 4,
 "nbformat_minor": 0
}
